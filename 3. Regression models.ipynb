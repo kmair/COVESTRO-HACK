{
 "cells": [
  {
   "cell_type": "code",
   "execution_count": 1,
   "metadata": {},
   "outputs": [],
   "source": [
    "import numpy as np\n",
    "import matplotlib.pyplot as plt\n",
    "import os\n",
    "import pandas as pd"
   ]
  },
  {
   "cell_type": "code",
   "execution_count": 2,
   "metadata": {},
   "outputs": [],
   "source": [
    "from sklearn.multioutput import MultiOutputRegressor\n",
    "from sklearn.ensemble import GradientBoostingRegressor\n",
    "from sklearn.experimental import enable_iterative_imputer\n",
    "from sklearn.impute import IterativeImputer"
   ]
  },
  {
   "cell_type": "code",
   "execution_count": 3,
   "metadata": {},
   "outputs": [],
   "source": [
    "df_50 = pd.read_csv('data_50_final.csv')\n",
    "df_60 = pd.read_csv('data_60_final.csv')"
   ]
  },
  {
   "cell_type": "code",
   "execution_count": 4,
   "metadata": {},
   "outputs": [
    {
     "data": {
      "text/plain": [
       "Int64Index([  105,   211,   317,   423,   529,   635,   741,   847,   953,\n",
       "             1059,\n",
       "            ...\n",
       "            16535, 16641, 16747, 16853, 16959, 17065, 17171, 17277, 17383,\n",
       "            17489],\n",
       "           dtype='int64', length=165)"
      ]
     },
     "execution_count": 4,
     "metadata": {},
     "output_type": "execute_result"
    }
   ],
   "source": [
    "pred_idx = df_50[df_50.day_diff == 17].index    # indices AFTER which we have to predict\n",
    "pred_idx"
   ]
  },
  {
   "cell_type": "code",
   "execution_count": 5,
   "metadata": {},
   "outputs": [],
   "source": [
    "def train_interval_data(df, data_idx, win):\n",
    "    xdata, ydata = [], []\n",
    "\n",
    "    for idx in range(data_idx-90+1+win,data_idx+1):\n",
    "    \n",
    "        y_out = df.water_level.iloc[idx]#.to_numpy()\n",
    "        x_ip = df[['discharge', 'incoming', 'RS', 'NSH_TAG']].iloc[idx].to_numpy()\n",
    "        # y_ip = y[idx-win:idx]\n",
    "        y_ip = df.water_level.iloc[idx-win:idx].to_numpy()\n",
    "\n",
    "        all_ip = np.append(x_ip, y_ip)\n",
    "        xdata.append(all_ip)\n",
    "        ydata.append(y_out)\n",
    "    # print(y_out)\n",
    "\n",
    "    return xdata, ydata\n",
    "\n",
    "def train_data(df, win=5):\n",
    "    xtrain, ytrain = [], []\n",
    "    for index in pred_idx:\n",
    "        xtr, ytr = train_interval_data(df, index, win)\n",
    "        xtrain.append(xtr)\n",
    "        ytrain.append(ytr)\n",
    "\n",
    "    return np.array(xtrain), np.array(ytrain)"
   ]
  },
  {
   "cell_type": "code",
   "execution_count": 46,
   "metadata": {},
   "outputs": [],
   "source": [
    "XT, YT = train_data(df_50, win=20)\n",
    "\n",
    "x_train = XT.reshape(-1, XT.shape[-1])\n",
    "y_train = YT.reshape(-1)"
   ]
  },
  {
   "cell_type": "code",
   "execution_count": 8,
   "metadata": {},
   "outputs": [],
   "source": [
    "def test_parser(df, model, win=5):\n",
    "    test_pred = []\n",
    "    diff_pred = []\n",
    "    for index in pred_idx:\n",
    "        y_ip = df.water_level.iloc[index-win+1:index+1].to_numpy() # For the 1st day\n",
    "        y0 = df.water_level.iloc[index]  # Value with which to compare\n",
    "        for days in range(3):\n",
    "            x_ip = df[['discharge', 'incoming', 'RS', 'NSH_TAG']].iloc[index+days].to_numpy()\n",
    "            all_ip = np.append(x_ip, y_ip).reshape(1,-1)\n",
    "            \n",
    "            y_out = model.predict( all_ip )\n",
    "            test_pred.append(y_out.flatten())\n",
    "\n",
    "            diff_pred.append(y_out.flatten()[0] - y0)\n",
    "            y_ip = np.append(y_ip, y_out)[1:]     # updating with new y_out and removing the 1st element\n",
    "  \n",
    "    return diff_pred\n",
    "\n",
    "# predictions = test_parser(df_50 ,linear_m, win=10)\n",
    "\n",
    "def write_output(fname, predictions):\n",
    "    with open(fname, 'a+') as f:\n",
    "        for pred in predictions:\n",
    "            f.write(str(pred)+'\\n')"
   ]
  },
  {
   "cell_type": "code",
   "execution_count": 39,
   "metadata": {},
   "outputs": [
    {
     "data": {
      "text/plain": [
       "(13200,)"
      ]
     },
     "execution_count": 39,
     "metadata": {},
     "output_type": "execute_result"
    }
   ],
   "source": [
    "y_train.shape"
   ]
  },
  {
   "cell_type": "code",
   "execution_count": 18,
   "metadata": {},
   "outputs": [
    {
     "data": {
      "text/plain": [
       "LinearRegression(copy_X=True, fit_intercept=True, n_jobs=None, normalize=False)"
      ]
     },
     "execution_count": 18,
     "metadata": {},
     "output_type": "execute_result"
    }
   ],
   "source": [
    "linear_m.fit(x_train,y_train)"
   ]
  },
  {
   "cell_type": "code",
   "execution_count": 19,
   "metadata": {},
   "outputs": [
    {
     "data": {
      "text/plain": [
       "array([364.03925861, 355.53626534, 346.40730781, ..., 338.44422002,\n",
       "       317.62901406, 297.1658992 ])"
      ]
     },
     "execution_count": 19,
     "metadata": {},
     "output_type": "execute_result"
    }
   ],
   "source": [
    "y_pred = linear_m.predict(x_train)\n",
    "y_pred"
   ]
  },
  {
   "cell_type": "code",
   "execution_count": 24,
   "metadata": {},
   "outputs": [
    {
     "data": {
      "text/plain": [
       "array([364.03925861, 355.53626534, 346.40730781, 344.13185678,\n",
       "       333.37262391, 375.40591484, 488.34653811, 539.04736554,\n",
       "       501.54020659, 464.62889459, 440.29267391, 410.73790201])"
      ]
     },
     "execution_count": 24,
     "metadata": {},
     "output_type": "execute_result"
    }
   ],
   "source": [
    "y_pred[:12]"
   ]
  },
  {
   "cell_type": "code",
   "execution_count": 29,
   "metadata": {},
   "outputs": [
    {
     "data": {
      "text/plain": [
       "array([368., 359., 353., 334., 331., 416., 516., 536., 506., 473., 441.,\n",
       "       416.])"
      ]
     },
     "execution_count": 29,
     "metadata": {},
     "output_type": "execute_result"
    }
   ],
   "source": [
    "y_train[:12]"
   ]
  },
  {
   "cell_type": "code",
   "execution_count": 21,
   "metadata": {},
   "outputs": [
    {
     "data": {
      "text/plain": [
       "4400.0"
      ]
     },
     "execution_count": 21,
     "metadata": {},
     "output_type": "execute_result"
    }
   ],
   "source": []
  },
  {
   "cell_type": "code",
   "execution_count": 22,
   "metadata": {},
   "outputs": [],
   "source": [
    "def get_values(y):\n",
    "    y1, y2, y3 = [], [], []\n",
    "    for i, y in enumerate(y):\n",
    "        if i%3 == 0:\n",
    "            y1.append(y)\n",
    "        elif i%3 == 1:\n",
    "            y2.append(y)\n",
    "        else:\n",
    "            y3.append(y)\n",
    "\n",
    "    y1 = np.array(y1)\n",
    "    y2 = np.array(y2)       \n",
    "    y3 = np.array(y3)       \n",
    "\n",
    "    return y1, y2, y3"
   ]
  },
  {
   "cell_type": "code",
   "execution_count": 41,
   "metadata": {},
   "outputs": [],
   "source": [
    "def find_R2(Ypred, Yact):\n",
    "    \n",
    "    Y_mean = sum(Yact) / len(Yact)    \n",
    "    y_a1, y_a2, y_a3 = get_values(Yact)\n",
    "    \n",
    "    y_p1, y_p2, y_p3 = get_values(Ypred)  \n",
    "    \n",
    "    Nr = sum((y_a1-y_p1)**2) + sum((y_a2-y_p2)**2) + sum((y_a2-y_p2)**2) \n",
    "    Dr = sum((y_a1-Y_mean)**2) + sum((y_a2-Y_mean)**2) + sum((y_a2-Y_mean)**2)     \n",
    "    \n",
    "    r2 = 1 - Nr/Dr\n",
    "    \n",
    "    return r2"
   ]
  },
  {
   "cell_type": "code",
   "execution_count": 42,
   "metadata": {},
   "outputs": [
    {
     "data": {
      "text/plain": [
       "0.995060809672045"
      ]
     },
     "execution_count": 42,
     "metadata": {},
     "output_type": "execute_result"
    }
   ],
   "source": [
    "find_R2(y_pred, y_train)"
   ]
  },
  {
   "cell_type": "markdown",
   "metadata": {},
   "source": [
    "**Validated model**"
   ]
  },
  {
   "cell_type": "code",
   "execution_count": 47,
   "metadata": {},
   "outputs": [
    {
     "data": {
      "text/plain": [
       "0.995787608528998"
      ]
     },
     "execution_count": 47,
     "metadata": {},
     "output_type": "execute_result"
    }
   ],
   "source": [
    "from sklearn.model_selection import train_test_split\n",
    "\n",
    "X_train, X_val, Y_train, Y_val = train_test_split(\n",
    "    x_train, y_train, test_size=0.2, random_state=42)\n",
    "\n",
    "linear_m.fit(X_train,Y_train)\n",
    "\n",
    "y_pred = linear_m.predict(X_val)\n",
    "\n",
    "find_R2(y_pred, Y_val)"
   ]
  },
  {
   "cell_type": "code",
   "execution_count": 49,
   "metadata": {},
   "outputs": [
    {
     "data": {
      "text/plain": [
       "(9240, 24)"
      ]
     },
     "execution_count": 49,
     "metadata": {},
     "output_type": "execute_result"
    }
   ],
   "source": [
    "X_train.shape"
   ]
  },
  {
   "cell_type": "code",
   "execution_count": 36,
   "metadata": {},
   "outputs": [
    {
     "data": {
      "text/plain": [
       "array([0., 1., 2., 3., 4., 5., 6., 7., 8., 9.])"
      ]
     },
     "execution_count": 36,
     "metadata": {},
     "output_type": "execute_result"
    }
   ],
   "source": [
    "a1 = np.arange(10)\n",
    "a2 = np.arange(10)\n",
    "a3 = np.arange(10)\n",
    "\n",
    "avg = (a1+a2+a3)/3\n",
    "avg"
   ]
  },
  {
   "cell_type": "markdown",
   "metadata": {},
   "source": [
    "## 1. SVR"
   ]
  },
  {
   "cell_type": "code",
   "execution_count": null,
   "metadata": {},
   "outputs": [],
   "source": [
    "from sklearn import svm\n",
    "svr = svm.SVR()"
   ]
  },
  {
   "cell_type": "markdown",
   "metadata": {},
   "source": [
    "## 2. Linear"
   ]
  },
  {
   "cell_type": "code",
   "execution_count": 1,
   "metadata": {},
   "outputs": [],
   "source": [
    "from sklearn import linear_model\n",
    "linear_m = linear_model.LinearRegression()"
   ]
  },
  {
   "cell_type": "code",
   "execution_count": 86,
   "metadata": {},
   "outputs": [],
   "source": [
    "from sklearn.linear_model import PassiveAggressiveRegressor\n",
    "PAR = PassiveAggressiveRegressor(max_iter=100, random_state=0, tol=1e-3)\n",
    "\n",
    "from sklearn.linear_model import TheilSenRegressor\n",
    "TSR = TheilSenRegressor(random_state=0)"
   ]
  },
  {
   "cell_type": "markdown",
   "metadata": {},
   "source": [
    "## 3. Ensemble"
   ]
  },
  {
   "cell_type": "code",
   "execution_count": 105,
   "metadata": {},
   "outputs": [],
   "source": [
    "from sklearn.ensemble import GradientBoostingRegressor\n",
    "from sklearn.ensemble import RandomForestRegressor\n",
    "from sklearn.linear_model import LinearRegression\n",
    "from sklearn.ensemble import VotingRegressor\n",
    "\n",
    "reg1 = GradientBoostingRegressor(random_state=1, n_estimators=100)\n",
    "reg2 = RandomForestRegressor(random_state=1, n_estimators=100)\n",
    "reg3 = LinearRegression()\n",
    "ereg = VotingRegressor([('gb', reg1), ('rf', reg2), ('lr', reg3)])"
   ]
  },
  {
   "cell_type": "markdown",
   "metadata": {},
   "source": [
    "## 4. Probabilistic"
   ]
  },
  {
   "cell_type": "code",
   "execution_count": 75,
   "metadata": {},
   "outputs": [],
   "source": [
    "from sklearn import linear_model\n",
    "bayes = linear_model.BayesianRidge()"
   ]
  },
  {
   "cell_type": "code",
   "execution_count": 94,
   "metadata": {},
   "outputs": [],
   "source": [
    "def whole_routine(df, model, fname, win= 10):\n",
    "    XT, YT = train_data(df, win)\n",
    "\n",
    "    x_train = XT.reshape(-1, XT.shape[-1])\n",
    "    y_train = YT.reshape(-1)\n",
    "    \n",
    "    # Initiate model class only\n",
    "    \n",
    "    model.fit(x_train, y_train) \n",
    "    predictions = test_parser(df ,model, win) \n",
    "    \n",
    "    write_output(fname, predictions)"
   ]
  },
  {
   "cell_type": "code",
   "execution_count": 114,
   "metadata": {},
   "outputs": [],
   "source": [
    "whole_routine(df_50, linear_m, 'linear_m_5.csv', 5)"
   ]
  },
  {
   "cell_type": "code",
   "execution_count": 115,
   "metadata": {},
   "outputs": [],
   "source": [
    "whole_routine(df_60, linear_m, 'linear_m_5.csv', 5)"
   ]
  },
  {
   "cell_type": "code",
   "execution_count": 122,
   "metadata": {},
   "outputs": [],
   "source": [
    "whole_routine(df_50, reg1, 'reg2_5.csv', 5)"
   ]
  },
  {
   "cell_type": "code",
   "execution_count": 123,
   "metadata": {},
   "outputs": [],
   "source": [
    "whole_routine(df_60, reg2, 'reg2_5.csv', 5)"
   ]
  },
  {
   "cell_type": "code",
   "execution_count": 124,
   "metadata": {},
   "outputs": [],
   "source": [
    "whole_routine(df_50, bayes, 'bayes_5.csv', 5)"
   ]
  },
  {
   "cell_type": "code",
   "execution_count": 125,
   "metadata": {},
   "outputs": [],
   "source": [
    "whole_routine(df_60, bayes, 'bayes_5.csv', 5)"
   ]
  },
  {
   "cell_type": "code",
   "execution_count": 118,
   "metadata": {},
   "outputs": [],
   "source": [
    "whole_routine(df_50, PAR, 'PAR_5.csv', 5)"
   ]
  },
  {
   "cell_type": "code",
   "execution_count": 119,
   "metadata": {},
   "outputs": [],
   "source": [
    "whole_routine(df_60, PAR, 'PAR_5.csv', 5)"
   ]
  },
  {
   "cell_type": "code",
   "execution_count": 120,
   "metadata": {},
   "outputs": [],
   "source": [
    "whole_routine(df_50, TSR, 'TSR_5.csv', 5)"
   ]
  },
  {
   "cell_type": "code",
   "execution_count": 121,
   "metadata": {},
   "outputs": [],
   "source": [
    "whole_routine(df_60, TSR, 'TSR_5.csv', 5)"
   ]
  }
 ],
 "metadata": {
  "kernelspec": {
   "display_name": "Python 3",
   "language": "python",
   "name": "python3"
  },
  "language_info": {
   "codemirror_mode": {
    "name": "ipython",
    "version": 3
   },
   "file_extension": ".py",
   "mimetype": "text/x-python",
   "name": "python",
   "nbconvert_exporter": "python",
   "pygments_lexer": "ipython3",
   "version": "3.7.3"
  }
 },
 "nbformat": 4,
 "nbformat_minor": 2
}
